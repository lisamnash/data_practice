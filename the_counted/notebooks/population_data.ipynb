{
 "cells": [
  {
   "cell_type": "code",
   "execution_count": 1,
   "metadata": {
    "collapsed": false
   },
   "outputs": [],
   "source": [
    "import numpy as np # linear algebra\n",
    "import pandas as pd # data processing, CSV file I/O (e.g. pd.read_csv)\n",
    "import matplotlib.pyplot as plt\n",
    "%matplotlib inline\n",
    "import seaborn\n",
    "import time\n",
    "import sys"
   ]
  },
  {
   "cell_type": "markdown",
   "metadata": {},
   "source": [
    "**In this notebook I'm writing functions to manipulate population data obtained from url here.**  \n"
   ]
  },
  {
   "cell_type": "code",
   "execution_count": 2,
   "metadata": {
    "collapsed": false
   },
   "outputs": [],
   "source": [
    "base_dir = '.'\n",
    "by_state = pd.read_table(base_dir + '/us.1990_2015.19ages.adjusted.txt', header = None)\n"
   ]
  },
  {
   "cell_type": "code",
   "execution_count": 3,
   "metadata": {
    "collapsed": false
   },
   "outputs": [],
   "source": [
    "#First need to convert the entries to data we can use (by year, population, state, race, and sex)\n",
    "def sep_vals(entry):\n",
    "    ''' This function takes a row from the raw data and gets the year, population, race and sex that that row refers to.\n",
    "    I am not keeping the county/district level data, but you could keep it.'''\n",
    "    \n",
    "    entry = entry[0]\n",
    "    year = int(entry[:4])\n",
    "    pop = int(entry[19::])\n",
    "    state = entry[4:6]\n",
    "    race = entry[13]\n",
    "    sex = entry[15]\n",
    "\n",
    "    return [year, pop, state, race, sex]\n",
    "\n",
    "def count_by_state(df, current_state, year): \n",
    "    ''' For a given state and year, this function will give the total population'''\n",
    "    rel_rows = (df.state==current_state) & (df.year == year)\n",
    "    new_df = df[rel_rows]\n",
    "   \n",
    "\n",
    "    num_total = new_df.population.sum()\n",
    "    state_pop= [current_state, num_total]\n",
    "\n",
    "    return num_total\n",
    "\n",
    "def pop_by_year_for_state(state):\n",
    "    ''' For a given state, this function will give the population as a function of year (1990-2015)'''\n",
    "    num = np.arange(26)\n",
    "    num= 1990+num\n",
    "    pop = []\n",
    "    for jk in range(len(num)):\n",
    "        current_state = state\n",
    "        year = num[jk]\n",
    "        state_count = count_by_state(df, current_state, year)\n",
    "        pop.append([num, state_count])\n",
    "    return pop"
   ]
  },
  {
   "cell_type": "code",
   "execution_count": 4,
   "metadata": {
    "collapsed": false
   },
   "outputs": [],
   "source": [
    "by_state_arr = by_state.values\n",
    "new_by_state = [sep_vals(by_state_arr[i]) for i in range(len(by_state_arr))]\n",
    "df = pd.DataFrame(new_by_state, columns=['year', 'population', 'state', 'race', 'sex'])\n",
    "df.to_csv('population_data.csv')"
   ]
  },
  {
   "cell_type": "code",
   "execution_count": 5,
   "metadata": {
    "collapsed": false
   },
   "outputs": [],
   "source": [
    "states = list(set(df.state.values))\n",
    "year = 2015\n",
    "\n",
    "st = []\n",
    "for jk in range(len(states)):\n",
    "    current_state = states[jk]\n",
    "    state_count = count_by_state(df, current_state, year)\n",
    "    st.append([current_state, state_count])"
   ]
  },
  {
   "cell_type": "code",
   "execution_count": 7,
   "metadata": {
    "collapsed": false
   },
   "outputs": [],
   "source": [
    "IL_pop = pop_by_year_for_state('IL')\n",
    "NC_pop = pop_by_year_for_state('NC')"
   ]
  },
  {
   "cell_type": "code",
   "execution_count": 15,
   "metadata": {
    "collapsed": false
   },
   "outputs": [
    {
     "data": {
      "image/png": "[encoded data removed]",
      "text/plain": [
       "<matplotlib.figure.Figure at 0x11de26a50>"
      ]
     },
     "metadata": {},
     "output_type": "display_data"
    }
   ],
   "source": [
    "num = np.arange(26)+1990\n",
    "NC_pop = np.array(NC_pop)\n",
    "IL_pop = np.array(IL_pop)\n",
    "fig = plt.figure()\n",
    "plt.plot(num, NC_pop[:,1], label = \"North Carolina\")\n",
    "plt.plot(num, IL_pop[:,1], label = 'Illinois')\n",
    "plt.legend(loc = 2)\n",
    "plt.xlabel('year')\n",
    "plt.ylabel('population')\n",
    "plt.title('Population by year for different states')\n",
    "plt.show()"
   ]
  },
  {
   "cell_type": "code",
   "execution_count": 16,
   "metadata": {
    "collapsed": false
   },
   "outputs": [],
   "source": [
    "st_df = pd.DataFrame(st, columns = ['state', 'pop'])\n",
    "st_df.to_csv('state_pop_2015.csv')"
   ]
  },
  {
   "cell_type": "code",
   "execution_count": null,
   "metadata": {
    "collapsed": true
   },
   "outputs": [],
   "source": []
  }
 ],
 "metadata": {
  "kernelspec": {
   "display_name": "Python 2",
   "language": "python",
   "name": "python2"
  },
  "language_info": {
   "codemirror_mode": {
    "name": "ipython",
    "version": 2
   },
   "file_extension": ".py",
   "mimetype": "text/x-python",
   "name": "python",
   "nbconvert_exporter": "python",
   "pygments_lexer": "ipython2",
   "version": "2.7.10"
  }
 },
 "nbformat": 4,
 "nbformat_minor": 0
}
